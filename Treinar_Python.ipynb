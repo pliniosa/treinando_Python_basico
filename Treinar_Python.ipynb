{
  "nbformat": 4,
  "nbformat_minor": 0,
  "metadata": {
    "colab": {
      "name": "Treinar_Python.ipynb",
      "provenance": [],
      "authorship_tag": "ABX9TyMSdZE9XW4QmNHniQL2Kluh",
      "include_colab_link": true
    },
    "kernelspec": {
      "name": "python3",
      "display_name": "Python 3"
    },
    "language_info": {
      "name": "python"
    }
  },
  "cells": [
    {
      "cell_type": "markdown",
      "metadata": {
        "id": "view-in-github",
        "colab_type": "text"
      },
      "source": [
        "<a href=\"https://colab.research.google.com/github/pliniosa/treinando_Python_basico/blob/main/Treinar_Python.ipynb\" target=\"_parent\"><img src=\"https://colab.research.google.com/assets/colab-badge.svg\" alt=\"Open In Colab\"/></a>"
      ]
    },
    {
      "cell_type": "markdown",
      "source": [
        "#Programação em Python\n"
      ],
      "metadata": {
        "id": "7FeY_fIo75t9"
      }
    },
    {
      "cell_type": "markdown",
      "source": [
        "##Tipos de Dados\n",
        "  1 Lista - São Usados []\n",
        "  2 Tuplas = São Usados ()\n",
        "  3 Dicionários - São Usado {}"
      ],
      "metadata": {
        "id": "pFXI534y7ylc"
      }
    },
    {
      "cell_type": "markdown",
      "source": [
        "###Lista\n"
      ],
      "metadata": {
        "id": "VOIZrZclBrhw"
      }
    },
    {
      "cell_type": "code",
      "execution_count": 1,
      "metadata": {
        "colab": {
          "base_uri": "https://localhost:8080/"
        },
        "id": "_x9vhOKX6qQB",
        "outputId": "36e9645d-fb8b-4c14-ee0d-b9480cc2c148"
      },
      "outputs": [
        {
          "output_type": "execute_result",
          "data": {
            "text/plain": [
              "[1, 2, 3, 4, 5, 6]"
            ]
          },
          "metadata": {},
          "execution_count": 1
        }
      ],
      "source": [
        "#Lista\n",
        "Lista_exemplo = [1,2,3,4,5,6]\n",
        "Lista_exemplo"
      ]
    },
    {
      "cell_type": "markdown",
      "source": [
        "###Tuplas"
      ],
      "metadata": {
        "id": "AH-xn_LkCDAi"
      }
    },
    {
      "cell_type": "code",
      "source": [
        "#Tuplas - São imutaveis\n",
        "Tupla_exemplo = (1,2,3,4,5,6)\n",
        "Tupla_exemplo"
      ],
      "metadata": {
        "colab": {
          "base_uri": "https://localhost:8080/"
        },
        "id": "Y25qbsxJCE0Q",
        "outputId": "f9dcb1a4-147c-4dc4-e4c0-e80ececfc8e1"
      },
      "execution_count": 2,
      "outputs": [
        {
          "output_type": "execute_result",
          "data": {
            "text/plain": [
              "(1, 2, 3, 4, 5, 6)"
            ]
          },
          "metadata": {},
          "execution_count": 2
        }
      ]
    },
    {
      "cell_type": "markdown",
      "source": [
        "###Dicionários"
      ],
      "metadata": {
        "id": "qybREXrkCPKy"
      }
    },
    {
      "cell_type": "code",
      "source": [
        "#Dicionários\n",
        "Dicionario_exemplo = {'index': 'valor', 'chave': 1, 'nome': 'Fulano', 'Lista': Lista_exemplo, 'tupla': Tupla_exemplo}\n",
        "Dicionario_exemplo\n"
      ],
      "metadata": {
        "colab": {
          "base_uri": "https://localhost:8080/"
        },
        "id": "jm2_eCsUCRWb",
        "outputId": "eb753d0c-1d29-40e3-e6c0-0342b4e68628"
      },
      "execution_count": 3,
      "outputs": [
        {
          "output_type": "execute_result",
          "data": {
            "text/plain": [
              "{'Lista': [1, 2, 3, 4, 5, 6],\n",
              " 'chave': 1,\n",
              " 'index': 'valor',\n",
              " 'nome': 'Fulano',\n",
              " 'tupla': (1, 2, 3, 4, 5, 6)}"
            ]
          },
          "metadata": {},
          "execution_count": 3
        }
      ]
    },
    {
      "cell_type": "markdown",
      "source": [
        "##Dados"
      ],
      "metadata": {
        "id": "FVL60j1YJgxd"
      }
    },
    {
      "cell_type": "code",
      "source": [
        "String = str('String')\n",
        "Inteiro = int(10)\n",
        "Float = float(1.5)\n",
        "Complex = complex(1j)\n",
        "Lista = list(('Maca', 'Morango'))\n",
        "Tupla = tuple(('A', 'B'))\n",
        "Dicionario = dict(nome = 'Nome', idade = 32)\n",
        "Range = range(100)\n",
        "Set = set (('A', 'B', 'C'))\n",
        "Fronzet = frozenset(('A', 'B', 'C'))\n",
        "Boleano = bool(5)\n",
        "Bytes = bytes(5)\n",
        "ByteArray = bytearray(5)\n",
        "Memoryview = memoryview( bytes())"
      ],
      "metadata": {
        "id": "wFKChUxkJfms"
      },
      "execution_count": 4,
      "outputs": []
    },
    {
      "cell_type": "markdown",
      "source": [
        "##Comando Round\n",
        "\n",
        "Arredonda numeros fracionado de acordo com a quantidade de casas decimais que voce escolher\n",
        "\n",
        "\n"
      ],
      "metadata": {
        "id": "BN0psI-LAnqu"
      }
    },
    {
      "cell_type": "code",
      "source": [
        "#Exemplo\n",
        "valor_ex = 12.123656789\n",
        "#arredonda o valor em inteiro\n",
        "round(valor_ex)"
      ],
      "metadata": {
        "colab": {
          "base_uri": "https://localhost:8080/"
        },
        "id": "wJCI9KRwAmKW",
        "outputId": "35299966-ae17-4d3d-e3b4-7636c20e0ebf"
      },
      "execution_count": 5,
      "outputs": [
        {
          "output_type": "execute_result",
          "data": {
            "text/plain": [
              "12"
            ]
          },
          "metadata": {},
          "execution_count": 5
        }
      ]
    },
    {
      "cell_type": "code",
      "source": [
        "#Arredondar o valor a partir da quantidade de casas necessarias\n",
        "round(valor_ex, 3)"
      ],
      "metadata": {
        "colab": {
          "base_uri": "https://localhost:8080/"
        },
        "id": "fZEmwv2GA_9J",
        "outputId": "50439767-2e38-4183-f206-d4d54ab4c227"
      },
      "execution_count": 6,
      "outputs": [
        {
          "output_type": "execute_result",
          "data": {
            "text/plain": [
              "12.124"
            ]
          },
          "metadata": {},
          "execution_count": 6
        }
      ]
    },
    {
      "cell_type": "markdown",
      "source": [
        "##Comando Len\n",
        "Retorna a quantidade de itens de uma lista"
      ],
      "metadata": {
        "id": "scxMXrbUBtR1"
      }
    },
    {
      "cell_type": "code",
      "source": [
        "len(Lista_exemplo)\n"
      ],
      "metadata": {
        "colab": {
          "base_uri": "https://localhost:8080/"
        },
        "id": "nOgZ2NtmB-1G",
        "outputId": "a23d4eb9-447d-4291-9078-1d7ac850b56b"
      },
      "execution_count": 7,
      "outputs": [
        {
          "output_type": "execute_result",
          "data": {
            "text/plain": [
              "6"
            ]
          },
          "metadata": {},
          "execution_count": 7
        }
      ]
    },
    {
      "cell_type": "code",
      "source": [
        "len(Dicionario_exemplo)\n"
      ],
      "metadata": {
        "colab": {
          "base_uri": "https://localhost:8080/"
        },
        "id": "SWOQuuaPCazY",
        "outputId": "69987ed9-9184-4ffa-f8eb-020cd3e5573d"
      },
      "execution_count": 8,
      "outputs": [
        {
          "output_type": "execute_result",
          "data": {
            "text/plain": [
              "5"
            ]
          },
          "metadata": {},
          "execution_count": 8
        }
      ]
    },
    {
      "cell_type": "code",
      "source": [
        "len(Tupla_exemplo)"
      ],
      "metadata": {
        "colab": {
          "base_uri": "https://localhost:8080/"
        },
        "id": "nuRow5BKCbsC",
        "outputId": "cc232130-3ea6-468a-d729-11077c021fa7"
      },
      "execution_count": 9,
      "outputs": [
        {
          "output_type": "execute_result",
          "data": {
            "text/plain": [
              "6"
            ]
          },
          "metadata": {},
          "execution_count": 9
        }
      ]
    },
    {
      "cell_type": "code",
      "source": [
        "len(String)"
      ],
      "metadata": {
        "colab": {
          "base_uri": "https://localhost:8080/"
        },
        "id": "GrE7YsUwCcbY",
        "outputId": "eacf60ce-f24d-412b-c264-06781a62e444"
      },
      "execution_count": 10,
      "outputs": [
        {
          "output_type": "execute_result",
          "data": {
            "text/plain": [
              "6"
            ]
          },
          "metadata": {},
          "execution_count": 10
        }
      ]
    },
    {
      "cell_type": "markdown",
      "source": [
        "##Funcoes de manipulação de String\n",
        "\n",
        "  1. replace()\n",
        "  2. startswith()\n",
        "  3. endswith()\n",
        "  4. count()\n",
        "  5. capitalize()\n",
        "  6. isdigit()\n",
        "  7. isalnum()\n",
        "  8. upper()\n",
        "  9. lower()\n",
        "  10. find()\n",
        "  11. strip()\n",
        "  12. split()\n",
        "\n",
        "\n"
      ],
      "metadata": {
        "id": "7l4DChSeEnrZ"
      }
    },
    {
      "cell_type": "markdown",
      "source": [
        "##Operadores de Identidade\n",
        "\n",
        "  1. is\n",
        "  2. is not"
      ],
      "metadata": {
        "id": "RHkrIf-1pTnU"
      }
    },
    {
      "cell_type": "code",
      "source": [
        "String_1 = 'Teste'\n",
        "String_2 = 'Teste'"
      ],
      "metadata": {
        "id": "2WBa7sr7ErZL"
      },
      "execution_count": 11,
      "outputs": []
    },
    {
      "cell_type": "code",
      "source": [
        "type(String_1) == type(String_2)"
      ],
      "metadata": {
        "colab": {
          "base_uri": "https://localhost:8080/"
        },
        "id": "qgtjpstvpdPf",
        "outputId": "bec84b6e-85d4-4fc0-f61a-f4168a1837e5"
      },
      "execution_count": 12,
      "outputs": [
        {
          "output_type": "execute_result",
          "data": {
            "text/plain": [
              "True"
            ]
          },
          "metadata": {},
          "execution_count": 12
        }
      ]
    },
    {
      "cell_type": "code",
      "source": [
        "String_1 is String_2"
      ],
      "metadata": {
        "colab": {
          "base_uri": "https://localhost:8080/"
        },
        "id": "9rq0GHkaphwk",
        "outputId": "4e005bd3-817d-468a-976c-4ab7fcb5f023"
      },
      "execution_count": 13,
      "outputs": [
        {
          "output_type": "execute_result",
          "data": {
            "text/plain": [
              "True"
            ]
          },
          "metadata": {},
          "execution_count": 13
        }
      ]
    },
    {
      "cell_type": "code",
      "source": [
        "String_1 is not String_2"
      ],
      "metadata": {
        "colab": {
          "base_uri": "https://localhost:8080/"
        },
        "id": "-Y8hPj3vplYn",
        "outputId": "70798d7c-51cb-4119-99d3-2ed326a29253"
      },
      "execution_count": 14,
      "outputs": [
        {
          "output_type": "execute_result",
          "data": {
            "text/plain": [
              "False"
            ]
          },
          "metadata": {},
          "execution_count": 14
        }
      ]
    },
    {
      "cell_type": "markdown",
      "source": [
        "##Operadores de Associação\n",
        "\n",
        "  1. in\n",
        "  2. not in"
      ],
      "metadata": {
        "id": "DScMXc6lp68L"
      }
    },
    {
      "cell_type": "code",
      "source": [
        "Lista_Acoes = ['magalu', 'via', 'carregour']"
      ],
      "metadata": {
        "id": "YlVObxp1pntm"
      },
      "execution_count": 15,
      "outputs": []
    },
    {
      "cell_type": "code",
      "source": [
        "'magalu' in Lista_Acoes"
      ],
      "metadata": {
        "colab": {
          "base_uri": "https://localhost:8080/"
        },
        "id": "D-74AIOfqHM6",
        "outputId": "d522208d-a5b1-42e7-9bc4-8969af7d9ec0"
      },
      "execution_count": 16,
      "outputs": [
        {
          "output_type": "execute_result",
          "data": {
            "text/plain": [
              "True"
            ]
          },
          "metadata": {},
          "execution_count": 16
        }
      ]
    },
    {
      "cell_type": "code",
      "source": [
        "'magalu' not in Lista_Acoes"
      ],
      "metadata": {
        "colab": {
          "base_uri": "https://localhost:8080/"
        },
        "id": "K-t_-nTqqKTK",
        "outputId": "6adebbe8-0cc2-4228-cbc0-ff0b92a051d1"
      },
      "execution_count": 17,
      "outputs": [
        {
          "output_type": "execute_result",
          "data": {
            "text/plain": [
              "False"
            ]
          },
          "metadata": {},
          "execution_count": 17
        }
      ]
    },
    {
      "cell_type": "markdown",
      "source": [
        "##Manipulando Lista\n",
        "\n",
        "  1. append() - Para adicionar um item ao final da lista\n",
        "  2. len()- Calcula o tamanho da lista\n",
        "  3. [] - Acessar posições\n",
        "  4. del() - Excluir um elemento\n",
        "  5. clear() - Limpar a lista\n",
        "  6. insert() - Para inserir um item de lista em um indice especificado\n",
        "  7. extend() - Anexar elementos de outra lista à lista atual\n",
        "  8. remove() - Remove o item especificado\n",
        "  9. pop() - Remove o indice especificado\n",
        "  10. sort() - Ordena os valores\n",
        "  11. copy() - Faz uma copia da lista\n",
        "  12. index() - Retorna o index do elemento da lista\n"
      ],
      "metadata": {
        "id": "uooNwnpQql1K"
      }
    },
    {
      "cell_type": "markdown",
      "source": [
        "## Pacote DateTime\n",
        "  Pacote para trabalhar com datas"
      ],
      "metadata": {
        "id": "yq8Zy6iu_RoO"
      }
    },
    {
      "cell_type": "code",
      "source": [
        "import datetime\n"
      ],
      "metadata": {
        "id": "PYXKBEDFqPXo"
      },
      "execution_count": 18,
      "outputs": []
    },
    {
      "cell_type": "code",
      "source": [
        "hoje = datetime.datetime.today()\n",
        "print(hoje)\n"
      ],
      "metadata": {
        "colab": {
          "base_uri": "https://localhost:8080/"
        },
        "id": "w9N0a0Y2_YCI",
        "outputId": "fa5f6790-509d-4fc6-abc7-c4284a72d900"
      },
      "execution_count": 22,
      "outputs": [
        {
          "output_type": "stream",
          "name": "stdout",
          "text": [
            "2022-06-21 20:40:53.654252\n",
            "<class 'datetime.datetime'>\n"
          ]
        }
      ]
    },
    {
      "cell_type": "code",
      "source": [
        "data = datetime.datetime.today().date()\n",
        "print(data)"
      ],
      "metadata": {
        "colab": {
          "base_uri": "https://localhost:8080/"
        },
        "id": "jz_uIWGp_eV7",
        "outputId": "7cb29eee-e370-409e-c330-74433643b3a6"
      },
      "execution_count": 24,
      "outputs": [
        {
          "output_type": "stream",
          "name": "stdout",
          "text": [
            "2022-06-21\n"
          ]
        }
      ]
    },
    {
      "cell_type": "code",
      "source": [
        "ano = data.year\n",
        "mes = data.month\n",
        "dia = data.day\n",
        "print(dia, mes, ano)"
      ],
      "metadata": {
        "colab": {
          "base_uri": "https://localhost:8080/"
        },
        "id": "ETxZadz8_9zH",
        "outputId": "af95cf2f-a62e-451c-9cb6-50c187d0cfd3"
      },
      "execution_count": 25,
      "outputs": [
        {
          "output_type": "stream",
          "name": "stdout",
          "text": [
            "21 6 2022\n"
          ]
        }
      ]
    },
    {
      "cell_type": "code",
      "source": [
        "dataCriada = datetime.date(2022, 5, 22)\n",
        "print(dataCriada)"
      ],
      "metadata": {
        "colab": {
          "base_uri": "https://localhost:8080/"
        },
        "id": "iP7arjG4APVi",
        "outputId": "5e9fd5b1-633f-4f82-d059-15fa9ecf8eed"
      },
      "execution_count": 30,
      "outputs": [
        {
          "output_type": "stream",
          "name": "stdout",
          "text": [
            "2022-05-22\n"
          ]
        }
      ]
    },
    {
      "cell_type": "code",
      "source": [
        "#mudar para formato brasileiro\n",
        "data.strftime('%d/%m/%y')\n"
      ],
      "metadata": {
        "colab": {
          "base_uri": "https://localhost:8080/",
          "height": 35
        },
        "id": "WSXaQg_lAXO9",
        "outputId": "ef5901ea-2dcc-4547-e04b-4f90d631417c"
      },
      "execution_count": 33,
      "outputs": [
        {
          "output_type": "execute_result",
          "data": {
            "text/plain": [
              "'21/06/22'"
            ],
            "application/vnd.google.colaboratory.intrinsic+json": {
              "type": "string"
            }
          },
          "metadata": {},
          "execution_count": 33
        }
      ]
    },
    {
      "cell_type": "code",
      "source": [
        "#adicionar dias na variavel\n",
        "data + datetime.timedelta(days=5)"
      ],
      "metadata": {
        "colab": {
          "base_uri": "https://localhost:8080/"
        },
        "id": "GcFfuAb4BSdQ",
        "outputId": "8dfdebf7-8076-4d01-ec51-b2e35ed85164"
      },
      "execution_count": 36,
      "outputs": [
        {
          "output_type": "execute_result",
          "data": {
            "text/plain": [
              "datetime.date(2022, 6, 26)"
            ]
          },
          "metadata": {},
          "execution_count": 36
        }
      ]
    },
    {
      "cell_type": "markdown",
      "source": [
        "##Timer"
      ],
      "metadata": {
        "id": "pkUudpojClc8"
      }
    },
    {
      "cell_type": "code",
      "source": [
        "import time"
      ],
      "metadata": {
        "id": "-ZsNtEwCCJky"
      },
      "execution_count": 37,
      "outputs": []
    },
    {
      "cell_type": "code",
      "source": [
        "print('Contando...')\n",
        "time.sleep(3)\n",
        "print('Terminou.')"
      ],
      "metadata": {
        "colab": {
          "base_uri": "https://localhost:8080/"
        },
        "id": "3eWgLuD3CpFN",
        "outputId": "c25a415d-1aca-4362-e82c-ee186f1a75d3"
      },
      "execution_count": 38,
      "outputs": [
        {
          "output_type": "stream",
          "name": "stdout",
          "text": [
            "Contando...\n",
            "Terminou.\n"
          ]
        }
      ]
    },
    {
      "cell_type": "markdown",
      "source": [
        "## Pacote Math\n",
        "\n",
        "Pacote matematico do python"
      ],
      "metadata": {
        "id": "8V2OYH33EOGK"
      }
    },
    {
      "cell_type": "code",
      "source": [
        "import math"
      ],
      "metadata": {
        "id": "humeLpcDCwrI"
      },
      "execution_count": 39,
      "outputs": []
    },
    {
      "cell_type": "code",
      "source": [
        "tupla=(15,5,30,25,3)"
      ],
      "metadata": {
        "id": "Ep0JSb5SEVjZ"
      },
      "execution_count": 41,
      "outputs": []
    },
    {
      "cell_type": "code",
      "source": [
        "min(tupla)"
      ],
      "metadata": {
        "colab": {
          "base_uri": "https://localhost:8080/"
        },
        "id": "0JeVpJXhE4Ow",
        "outputId": "b428a979-7389-4130-a11d-14b993f02984"
      },
      "execution_count": 44,
      "outputs": [
        {
          "output_type": "execute_result",
          "data": {
            "text/plain": [
              "30"
            ]
          },
          "metadata": {},
          "execution_count": 44
        }
      ]
    },
    {
      "cell_type": "code",
      "source": [
        "max(tupla)"
      ],
      "metadata": {
        "colab": {
          "base_uri": "https://localhost:8080/"
        },
        "id": "cKJHWxRVE72k",
        "outputId": "c73b5f53-e321-45a2-96c4-775e872fc9a3"
      },
      "execution_count": 43,
      "outputs": [
        {
          "output_type": "execute_result",
          "data": {
            "text/plain": [
              "30"
            ]
          },
          "metadata": {},
          "execution_count": 43
        }
      ]
    },
    {
      "cell_type": "code",
      "source": [
        "abs(-7.25)"
      ],
      "metadata": {
        "colab": {
          "base_uri": "https://localhost:8080/"
        },
        "id": "KKBx7uF3E9Jj",
        "outputId": "8d3a4f9c-2d08-427e-ceb3-d069a50f361c"
      },
      "execution_count": 45,
      "outputs": [
        {
          "output_type": "execute_result",
          "data": {
            "text/plain": [
              "7.25"
            ]
          },
          "metadata": {},
          "execution_count": 45
        }
      ]
    },
    {
      "cell_type": "code",
      "source": [
        "pow(3,2)"
      ],
      "metadata": {
        "colab": {
          "base_uri": "https://localhost:8080/"
        },
        "id": "Rj1Tm-30FDn_",
        "outputId": "b8275368-6854-4e89-9acf-be8dc0fd2de9"
      },
      "execution_count": 46,
      "outputs": [
        {
          "output_type": "execute_result",
          "data": {
            "text/plain": [
              "9"
            ]
          },
          "metadata": {},
          "execution_count": 46
        }
      ]
    },
    {
      "cell_type": "code",
      "source": [
        "math.sqrt(25)"
      ],
      "metadata": {
        "colab": {
          "base_uri": "https://localhost:8080/"
        },
        "id": "IztlBazXFF-T",
        "outputId": "551cb39e-e54e-45d4-e5bb-257c80df593d"
      },
      "execution_count": 47,
      "outputs": [
        {
          "output_type": "execute_result",
          "data": {
            "text/plain": [
              "5.0"
            ]
          },
          "metadata": {},
          "execution_count": 47
        }
      ]
    },
    {
      "cell_type": "markdown",
      "source": [
        "##Pacote Random"
      ],
      "metadata": {
        "id": "Nso1_5lBF7MO"
      }
    },
    {
      "cell_type": "code",
      "source": [
        "import random"
      ],
      "metadata": {
        "id": "G-ZlbkKsFMIv"
      },
      "execution_count": 48,
      "outputs": []
    },
    {
      "cell_type": "code",
      "source": [
        "random.choice(tupla)"
      ],
      "metadata": {
        "colab": {
          "base_uri": "https://localhost:8080/"
        },
        "id": "N0oqRVpCGqDz",
        "outputId": "e18c6d52-ca73-424a-e817-a71ed991f945"
      },
      "execution_count": 49,
      "outputs": [
        {
          "output_type": "execute_result",
          "data": {
            "text/plain": [
              "30"
            ]
          },
          "metadata": {},
          "execution_count": 49
        }
      ]
    },
    {
      "cell_type": "markdown",
      "source": [
        "##Pacote Statistics\n",
        "\n",
        "Modulo fornerce funcoes para calcular estatisticas matematicas"
      ],
      "metadata": {
        "id": "MZJI_EkuHJIG"
      }
    },
    {
      "cell_type": "code",
      "source": [
        "import statistics"
      ],
      "metadata": {
        "id": "CspiyAc6HgH8"
      },
      "execution_count": 52,
      "outputs": []
    },
    {
      "cell_type": "code",
      "source": [
        "lista_01 = [12,15,28,56,78,80,12]"
      ],
      "metadata": {
        "id": "hkMEgEG2GvK3"
      },
      "execution_count": 54,
      "outputs": []
    },
    {
      "cell_type": "code",
      "source": [
        "sum(lista_01) / len(lista_01)"
      ],
      "metadata": {
        "colab": {
          "base_uri": "https://localhost:8080/"
        },
        "id": "WqiBmJuEHXJe",
        "outputId": "6a2e26b6-2dbc-437c-f17f-96deaa7e24e2"
      },
      "execution_count": 55,
      "outputs": [
        {
          "output_type": "execute_result",
          "data": {
            "text/plain": [
              "40.142857142857146"
            ]
          },
          "metadata": {},
          "execution_count": 55
        }
      ]
    },
    {
      "cell_type": "code",
      "source": [
        "statistics.mean(lista_01)"
      ],
      "metadata": {
        "colab": {
          "base_uri": "https://localhost:8080/"
        },
        "id": "-RAQLn8XHcv7",
        "outputId": "a75cba21-4e12-46c1-8437-a921647c43ef"
      },
      "execution_count": 56,
      "outputs": [
        {
          "output_type": "execute_result",
          "data": {
            "text/plain": [
              "40.142857142857146"
            ]
          },
          "metadata": {},
          "execution_count": 56
        }
      ]
    },
    {
      "cell_type": "code",
      "source": [
        "statistics.median(lista_01)"
      ],
      "metadata": {
        "colab": {
          "base_uri": "https://localhost:8080/"
        },
        "id": "fvFxp382HmKG",
        "outputId": "cfeee46c-59e1-410a-88f9-dbfa6a6c3d1d"
      },
      "execution_count": 57,
      "outputs": [
        {
          "output_type": "execute_result",
          "data": {
            "text/plain": [
              "28"
            ]
          },
          "metadata": {},
          "execution_count": 57
        }
      ]
    },
    {
      "cell_type": "code",
      "source": [
        "statistics.mode(lista_01)"
      ],
      "metadata": {
        "colab": {
          "base_uri": "https://localhost:8080/"
        },
        "id": "1kr9OwmRHsaS",
        "outputId": "b498cd2a-b8e0-41ed-8e14-ee1398d29079"
      },
      "execution_count": 58,
      "outputs": [
        {
          "output_type": "execute_result",
          "data": {
            "text/plain": [
              "12"
            ]
          },
          "metadata": {},
          "execution_count": 58
        }
      ]
    },
    {
      "cell_type": "markdown",
      "source": [
        "##Comando IF"
      ],
      "metadata": {
        "id": "ylcU3fApIiUw"
      }
    },
    {
      "cell_type": "code",
      "source": [
        "idade = input('Digite sua idade')\n",
        "idade = int(idade)\n",
        "\n",
        "if idade >= 18:\n",
        "  print('maior de idade')\n",
        "else:\n",
        "  print('menor de idade')"
      ],
      "metadata": {
        "colab": {
          "base_uri": "https://localhost:8080/"
        },
        "id": "6WeDefIlHvWt",
        "outputId": "18347618-5fc1-4101-d992-a0893fae2f60"
      },
      "execution_count": 63,
      "outputs": [
        {
          "output_type": "stream",
          "name": "stdout",
          "text": [
            "Digite sua idade01\n",
            "menor de idade\n"
          ]
        }
      ]
    },
    {
      "cell_type": "markdown",
      "source": [
        "##Comando For"
      ],
      "metadata": {
        "id": "rihCzgNDLsXl"
      }
    },
    {
      "cell_type": "code",
      "source": [
        "for i in range(0,10):\n",
        "  print(i)"
      ],
      "metadata": {
        "colab": {
          "base_uri": "https://localhost:8080/"
        },
        "id": "EuS0gHgFIuqn",
        "outputId": "317b7008-19bb-4e5c-9d59-bd5c9186d21f"
      },
      "execution_count": 66,
      "outputs": [
        {
          "output_type": "stream",
          "name": "stdout",
          "text": [
            "0\n",
            "1\n",
            "2\n",
            "3\n",
            "4\n",
            "5\n",
            "6\n",
            "7\n",
            "8\n",
            "9\n"
          ]
        }
      ]
    },
    {
      "cell_type": "code",
      "source": [
        "for i in range(0,10,2):\n",
        "  print(i)"
      ],
      "metadata": {
        "colab": {
          "base_uri": "https://localhost:8080/"
        },
        "id": "Sq_7ollKLyGI",
        "outputId": "5d95bf28-6fa9-4060-b343-43d7e3a3a295"
      },
      "execution_count": 67,
      "outputs": [
        {
          "output_type": "stream",
          "name": "stdout",
          "text": [
            "0\n",
            "2\n",
            "4\n",
            "6\n",
            "8\n"
          ]
        }
      ]
    },
    {
      "cell_type": "markdown",
      "source": [
        "##Comando While"
      ],
      "metadata": {
        "id": "IRrc-RHVWckC"
      }
    },
    {
      "cell_type": "code",
      "source": [
        "parar = 0\n",
        "contador = 0\n",
        "while parar == 0:\n",
        "  if contador < 10:\n",
        "    contador = contador + 1;\n",
        "  else:\n",
        "    parar = 1;\n"
      ],
      "metadata": {
        "id": "Jqowd7J4L5oN"
      },
      "execution_count": 71,
      "outputs": []
    },
    {
      "cell_type": "markdown",
      "source": [
        "##Funcoes python"
      ],
      "metadata": {
        "id": "RQwbza5naJkP"
      }
    },
    {
      "cell_type": "code",
      "source": [
        "def boas_vindas():\n",
        "  print('Funcao python')\n"
      ],
      "metadata": {
        "id": "iayBZqygWv_j"
      },
      "execution_count": 72,
      "outputs": []
    },
    {
      "cell_type": "code",
      "source": [
        "boas_vindas()"
      ],
      "metadata": {
        "colab": {
          "base_uri": "https://localhost:8080/"
        },
        "id": "rAtWcWgAaUm_",
        "outputId": "d75164f7-a458-4caf-a343-717605e93f21"
      },
      "execution_count": 77,
      "outputs": [
        {
          "output_type": "stream",
          "name": "stdout",
          "text": [
            "Funcao python\n"
          ]
        }
      ]
    },
    {
      "cell_type": "code",
      "source": [
        "def somar(valor1, valor2):\n",
        "    print(valor1 + valor2);"
      ],
      "metadata": {
        "id": "k6QFSKwbbEr2"
      },
      "execution_count": 80,
      "outputs": []
    },
    {
      "cell_type": "code",
      "source": [
        "somar(1,2)"
      ],
      "metadata": {
        "colab": {
          "base_uri": "https://localhost:8080/"
        },
        "id": "oEKcA-EXbHEP",
        "outputId": "77dd51ef-9e15-4c02-b2a8-4d2542737ea4"
      },
      "execution_count": 81,
      "outputs": [
        {
          "output_type": "stream",
          "name": "stdout",
          "text": [
            "3\n"
          ]
        }
      ]
    },
    {
      "cell_type": "markdown",
      "source": [
        "##Estrutura Try\n",
        "\n",
        "  tenta execultar, caso nao consiga entra no except"
      ],
      "metadata": {
        "id": "IsJZY8PJrKKe"
      }
    },
    {
      "cell_type": "code",
      "source": [
        "try: \n",
        "  #0/0\n",
        "  1+1\n",
        "except:\n",
        "  print('Error')\n",
        "finally:\n",
        "  print('sempre irar ser execultado')\n"
      ],
      "metadata": {
        "colab": {
          "base_uri": "https://localhost:8080/"
        },
        "id": "qUDk_HfKrNYI",
        "outputId": "e927c4e1-67d8-4f4c-9e19-e4c276369975"
      },
      "execution_count": 87,
      "outputs": [
        {
          "output_type": "stream",
          "name": "stdout",
          "text": [
            "sempre irar ser execultado\n"
          ]
        }
      ]
    },
    {
      "cell_type": "markdown",
      "source": [
        "##Classes Python"
      ],
      "metadata": {
        "id": "W0S-jZEka_KV"
      }
    },
    {
      "cell_type": "code",
      "source": [
        "class Somar():\n",
        "  def __init__(self) -> None:\n",
        "      pass\n",
        "  \n",
        "  def somar(self, valor1, valor2):\n",
        "    print(valor1 + valor2);"
      ],
      "metadata": {
        "id": "el_wkadwaVv-"
      },
      "execution_count": 74,
      "outputs": []
    },
    {
      "cell_type": "code",
      "source": [
        "teste = Somar()"
      ],
      "metadata": {
        "id": "ORgrtYrLayjK"
      },
      "execution_count": 75,
      "outputs": []
    },
    {
      "cell_type": "code",
      "source": [
        "teste.somar(1,2)"
      ],
      "metadata": {
        "colab": {
          "base_uri": "https://localhost:8080/"
        },
        "id": "V3iX_iCxa2DB",
        "outputId": "c3ae4a45-db28-4f1a-a90c-240140469011"
      },
      "execution_count": 76,
      "outputs": [
        {
          "output_type": "stream",
          "name": "stdout",
          "text": [
            "3\n"
          ]
        }
      ]
    },
    {
      "cell_type": "code",
      "source": [
        "class Pessoa:\n",
        "\n",
        "  def __init__(self, Nome, Idade):\n",
        "    self.Nome = Nome\n",
        "    self.Idade = Idade\n",
        "\n",
        "  def ola(self):\n",
        "    print('Olá seja bem vindo', self.Nome)\n",
        "  \n",
        "  def recusado(self):\n",
        "    print('Acesso recusado')\n",
        "\n",
        "  def maior_idade(self):\n",
        "    if self.Idade >= 18:\n",
        "      print('Usuario de maior')\n",
        "      self.ola()\n",
        "    else:\n",
        "      print('Usuario de menor')\n",
        "      self.recusado()"
      ],
      "metadata": {
        "id": "O2xjhSJAa4ad"
      },
      "execution_count": 88,
      "outputs": []
    },
    {
      "cell_type": "code",
      "source": [
        "usuario = Pessoa('Plinio', 31)"
      ],
      "metadata": {
        "id": "2HaN8XgVyByV"
      },
      "execution_count": 89,
      "outputs": []
    },
    {
      "cell_type": "code",
      "source": [
        "usuario.maior_idade()"
      ],
      "metadata": {
        "colab": {
          "base_uri": "https://localhost:8080/"
        },
        "id": "zBfVStFKyHSJ",
        "outputId": "4e35896c-d52e-45f5-c21a-1a2bdc4a3bfe"
      },
      "execution_count": 90,
      "outputs": [
        {
          "output_type": "stream",
          "name": "stdout",
          "text": [
            "Usuario de maior\n",
            "Olá seja bem vindo Plinio\n"
          ]
        }
      ]
    },
    {
      "cell_type": "code",
      "source": [
        "usuario1 = Pessoa('Ademir', 15)"
      ],
      "metadata": {
        "id": "KRDYqYvbyKMx"
      },
      "execution_count": 91,
      "outputs": []
    },
    {
      "cell_type": "code",
      "source": [
        "usuario1.maior_idade()"
      ],
      "metadata": {
        "colab": {
          "base_uri": "https://localhost:8080/"
        },
        "id": "ZNCamxV1yVad",
        "outputId": "ca8a2dcd-396a-474a-9159-8e73d3775f1b"
      },
      "execution_count": 92,
      "outputs": [
        {
          "output_type": "stream",
          "name": "stdout",
          "text": [
            "Usuario de menor\n",
            "Acesso recusado\n"
          ]
        }
      ]
    },
    {
      "cell_type": "code",
      "source": [
        ""
      ],
      "metadata": {
        "id": "o02jSkGdyXRR"
      },
      "execution_count": null,
      "outputs": []
    }
  ]
}